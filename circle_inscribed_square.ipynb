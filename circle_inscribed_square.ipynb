{
 "cells": [
  {
   "cell_type": "code",
   "execution_count": null,
   "metadata": {},
   "outputs": [],
   "source": [
    "import numpy as np\n",
    "import cv2\n",
    "import math\n",
    "\n",
    "class Circle():\n",
    "    def __init__(self, radius):\n",
    "        self.radius = radius\n",
    "        \n",
    "    \n",
    "    def scribe_square(self):\n",
    "        \n",
    "        height, width = 256, 256\n",
    "        #plot canvas of 256,256\n",
    "        img = np.zeros((height, width, 3), np.uint8)\n",
    "        img[:, :] = [255, 255, 255]\n",
    "        # Pixel position to draw at\n",
    "        row, col = 128,128\n",
    "        radius = self.radius\n",
    "        if radius > 128:\n",
    "            print(\"circle size too big!\")\n",
    "            return None\n",
    "        cv2.circle(img,(col, row), radius, (0,255,0), 2)\n",
    "        #find coordinates for the start point and endpoints to draw the square\n",
    "        mat= round(radius/math.sqrt(2))\n",
    "        start_point=(128-mat, 128-mat)\n",
    "        end_point = (128+mat, 128+mat)\n",
    "        #draw square\n",
    "        cv2.rectangle(img, start_point, end_point, (255, 0, 0), 2)\n",
    "        cv2.imwrite(\"square_circle_opencv.jpg\", img)\n",
    "        print(\"image generated!\")\n",
    "        \n",
    "    def display_img(self):\n",
    "        if self.radius > 128:\n",
    "            print(\"circle size too big!\")\n",
    "            return None\n",
    "        img = cv2.imread(r\"./square_circle_opencv.jpg\",1)\n",
    "        cv2.imshow(\"image\",img)\n",
    "        cv2.waitKey(0)\n",
    "        "
   ]
  },
  {
   "cell_type": "code",
   "execution_count": null,
   "metadata": {},
   "outputs": [],
   "source": [
    "new = Circle(500)"
   ]
  },
  {
   "cell_type": "code",
   "execution_count": 29,
   "metadata": {},
   "outputs": [],
   "source": [
    "new.scribe_square()"
   ]
  },
  {
   "cell_type": "code",
   "execution_count": 30,
   "metadata": {},
   "outputs": [],
   "source": [
    "new.display_img()"
   ]
  },
  {
   "cell_type": "code",
   "execution_count": null,
   "metadata": {},
   "outputs": [],
   "source": []
  },
  {
   "cell_type": "code",
   "execution_count": null,
   "metadata": {},
   "outputs": [],
   "source": []
  },
  {
   "cell_type": "code",
   "execution_count": null,
   "metadata": {},
   "outputs": [],
   "source": []
  }
 ],
 "metadata": {
  "kernelspec": {
   "display_name": "Python 3",
   "language": "python",
   "name": "python3"
  },
  "language_info": {
   "codemirror_mode": {
    "name": "ipython",
    "version": 3
   },
   "file_extension": ".py",
   "mimetype": "text/x-python",
   "name": "python",
   "nbconvert_exporter": "python",
   "pygments_lexer": "ipython3",
   "version": "3.7.0"
  }
 },
 "nbformat": 4,
 "nbformat_minor": 2
}
